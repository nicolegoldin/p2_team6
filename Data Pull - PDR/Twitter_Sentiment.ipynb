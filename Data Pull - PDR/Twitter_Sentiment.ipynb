{
 "cells": [
  {
   "cell_type": "code",
   "execution_count": 2,
   "metadata": {},
   "outputs": [],
   "source": [
    "import numpy as np\n",
    "import pandas as pd\n",
    "from datetime import datetime, timedelta\n",
    "import matplotlib.pyplot as plt\n",
    "import os\n",
    "import json\n",
    "from iexfinance.stocks import get_historical_data\n",
    "import iexfinance as iex\n",
    "\n",
    "%matplotlib inline"
   ]
  },
  {
   "cell_type": "code",
   "execution_count": 3,
   "metadata": {},
   "outputs": [
    {
     "name": "stdout",
     "output_type": "stream",
     "text": [
      "25\n",
      "50\n",
      "50\n",
      "45\n"
     ]
    }
   ],
   "source": [
    "import twitter\n",
    "#Import twitter API Tokens \n",
    "#API_Tokens = os.getenv(\"TWITTER_API_KEY\")\n",
    "#API_Tokens_Secret = os.getenv(\"TWITTER_SECRET_KEY\")\n",
    "#print(len(API_Tokens))\n",
    "#print(len(API_Tokens_Secret))\n",
    "\n",
    "consumer_key=os.getenv('TWITTER_CONSUMER_KEY')\n",
    "consumer_secret=os.getenv('TWITTER_CONSUMER_SECRET_KEY')\n",
    "access_token_key=os.getenv('TWITTER_ACCESS_KEY')\n",
    "access_token_secret=os.getenv('TWITTER_ACCESS_SECRET_KEY')\n",
    "print(len(consumer_key))\n",
    "print(len(consumer_secret))\n",
    "print(len(access_token_key))\n",
    "print(len(access_token_secret))"
   ]
  },
  {
   "cell_type": "code",
   "execution_count": null,
   "metadata": {},
   "outputs": [],
   "source": [
    "#Intializing our Twitter API \n",
    "twitter_api = twitter.Api(consumer_key='TWITTER_CONSUMER_KEY',\n",
    "                        consumer_secret='TWITTER_CONSUMER_SECRET_KEY',\n",
    "                        access_token_key='TWITTER_ACCESS_KEY',\n",
    "                        access_token_secret='TWITTER_ACCESS_SECRET_KEY')\n",
    "\n",
    "# test authentication\n",
    "print(twitter_api.VerifyCredentials())"
   ]
  },
  {
   "cell_type": "code",
   "execution_count": null,
   "metadata": {},
   "outputs": [],
   "source": [
    "#Starting to build our keyword search \n",
    "def buildTestSet(search_keyword):\n",
    "    try:\n",
    "        tweets_fetched = twitter_api.GetSearch(search_keyword, count = 100)\n",
    "        \n",
    "        print(\"Fetched \" + str(len(tweets_fetched)) + \" tweets for the term \" + search_keyword)\n",
    "        \n",
    "        return [{\"text\":status.text, \"label\":None} for status in tweets_fetched]\n",
    "    except:\n",
    "        print(\"Unfortunately, something went wrong..\")\n",
    "        return None"
   ]
  },
  {
   "cell_type": "code",
   "execution_count": null,
   "metadata": {},
   "outputs": [],
   "source": []
  }
 ],
 "metadata": {
  "kernelspec": {
   "display_name": "Python 3",
   "language": "python",
   "name": "python3"
  },
  "language_info": {
   "codemirror_mode": {
    "name": "ipython",
    "version": 3
   },
   "file_extension": ".py",
   "mimetype": "text/x-python",
   "name": "python",
   "nbconvert_exporter": "python",
   "pygments_lexer": "ipython3",
   "version": "3.7.4"
  }
 },
 "nbformat": 4,
 "nbformat_minor": 4
}
