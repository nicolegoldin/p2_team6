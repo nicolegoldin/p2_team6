{
 "cells": [
  {
   "cell_type": "code",
   "execution_count": 1,
   "metadata": {},
   "outputs": [],
   "source": [
    "import requests\n",
    "import json\n",
    "import datetime"
   ]
  },
  {
   "cell_type": "code",
   "execution_count": 2,
   "metadata": {},
   "outputs": [],
   "source": [
    "#List of Tickers\n",
    "tickers = ['MSFT']"
   ]
  },
  {
   "cell_type": "code",
   "execution_count": 3,
   "metadata": {},
   "outputs": [],
   "source": [
    "# write to JSON file and properly formats the file\n",
    "def write_to_file(nameOfFile, data):\n",
    "    with open(nameOfFile, 'w+') as f:\n",
    "        print(\"Dumping JSON to\", nameOfFile)\n",
    "        json.dump(data, f, sort_keys=True, indent=4, separators=(',', ':'))"
   ]
  },
  {
   "cell_type": "code",
   "execution_count": 4,
   "metadata": {},
   "outputs": [],
   "source": [
    "# get the data using StockTwits API\n",
    "def get_twits(ticker):\n",
    "    url = \"https://api.stocktwits.com/api/2/streams/symbol/{0}.json\".format(ticker)\n",
    "    response = requests.get(url).json()\n",
    "    return response"
   ]
  },
  {
   "cell_type": "code",
   "execution_count": 7,
   "metadata": {},
   "outputs": [],
   "source": [
    "# loops through to get data for each ticker in the tickers list\n",
    "def get_twits_list(tickers):\n",
    "    ret = {}\n",
    "    for ticker in tickers:\n",
    "        print(\"Getting data for\", ticker)\n",
    "        # error handling\n",
    "        try:\n",
    "            data = get_twits(ticker)\n",
    "            symbol = data['symbol']['symbol']\n",
    "            msgs = data['messages']\n",
    "            ret.update({symbol: msgs})\n",
    "        except Exception as e:\n",
    "            print(e)\n",
    "            print(\"Error getting\", ticker)\n",
    "    return ret\n",
    "\n",
    "\n",
    "def read_tickers():\n",
    "    print(\"Reading tickers from \\\"tickers.txt\\\":\")\n",
    "    f = open(\"tickers.txt\", 'r')\n",
    "    names = []\n",
    "    # read tickers from tickers.txt\n",
    "    for line in f:\n",
    "        line = line.strip('\\n')\n",
    "        line = line.upper()\n",
    "        line = line.strip('\\t')\n",
    "        names.append(line)\n",
    "    print(names)\n",
    "    return names\n",
    "\n",
    "def remove_old(original, start_date=40):\n",
    "    print(\"Removing tweets that are more than\", start_date, \"days old\")\n",
    "    threshold = datetime.datetime.now() - datetime.timedelta(start_date)\n",
    "    result = {}\n",
    "    #checks if data is more than age_limit and removes if so\n",
    "    for ticker in list(original.keys()):\n",
    "        result[ticker] = []\n",
    "        for msg in original[ticker]:\n",
    "            dt = datetime.datetime.strptime(msg[\"created_at\"], \"%Y-%m-%dT%H:%M:%SZ\")\n",
    "            if dt >= threshold:\n",
    "                result[ticker].append(msg)\n",
    "    return result"
   ]
  },
  {
   "cell_type": "code",
   "execution_count": 8,
   "metadata": {},
   "outputs": [
    {
     "name": "stdin",
     "output_type": "stream",
     "text": [
      "Do you want to specify name of output file? Type y or Y for yes. \n",
      " yes \n",
      "What is file name? \n",
      " Test_new_2\n"
     ]
    },
    {
     "name": "stdout",
     "output_type": "stream",
     "text": [
      "Reading tickers from \"tickers.txt\":\n",
      "['MSFT', 'GOOGL', 'JPM', 'ODFL', 'ALB', 'GILD', 'JNJ', 'CAT', 'V', 'NEE']\n",
      "Getting data for MSFT\n",
      "Getting data for GOOGL\n",
      "Getting data for JPM\n",
      "Getting data for ODFL\n",
      "Getting data for ALB\n",
      "Getting data for GILD\n",
      "Getting data for JNJ\n",
      "Getting data for CAT\n",
      "Getting data for V\n",
      "Getting data for NEE\n",
      "Removing tweets that are more than 21 days old\n",
      "Dumping JSON to Test_new_2.json\n"
     ]
    }
   ],
   "source": [
    "# default file name\n",
    "FILENAME = \"stocktwits.json\"\n",
    "\n",
    "if __name__ == \"__main__\":\n",
    "\n",
    "    # Optional file output - Make sure you are using Python 3!\n",
    "    # To check, import sys and then print(sys.version)\n",
    "    x = input(\"Do you want to specify name of output file? Type y or Y for yes. \\n\").lower()\n",
    "\n",
    "    # Execute this code if option is taken\n",
    "    if x.startswith(\"y\") or x.startswith(\"Y\"):\n",
    "        filename = input(\"What is file name? \\n\")\n",
    "        if not (filename.endswith(\".json\")):\n",
    "            filename = filename + \".json\"\n",
    "        FILENAME = filename\n",
    "\n",
    "    # get list of ticker codes\n",
    "    codes = read_tickers()\n",
    "\n",
    "    # print(get_twits('AAPL'))\n",
    "    # for each ticker code get the data\n",
    "    twitdata = get_twits_list(codes)\n",
    "    # remove the data if older than X days, useless\n",
    "    twitdata = remove_old(twitdata, 21)\n",
    "    # write to json file\n",
    "    write_to_file(FILENAME, twitdata)"
   ]
  },
  {
   "cell_type": "code",
   "execution_count": null,
   "metadata": {},
   "outputs": [],
   "source": []
  }
 ],
 "metadata": {
  "kernelspec": {
   "display_name": "Python 3",
   "language": "python",
   "name": "python3"
  },
  "language_info": {
   "codemirror_mode": {
    "name": "ipython",
    "version": 3
   },
   "file_extension": ".py",
   "mimetype": "text/x-python",
   "name": "python",
   "nbconvert_exporter": "python",
   "pygments_lexer": "ipython3",
   "version": "3.7.4"
  }
 },
 "nbformat": 4,
 "nbformat_minor": 4
}
