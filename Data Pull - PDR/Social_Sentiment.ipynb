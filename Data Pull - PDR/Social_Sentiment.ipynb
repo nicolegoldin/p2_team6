{
 "cells": [
  {
   "cell_type": "code",
   "execution_count": 1,
   "metadata": {},
   "outputs": [
    {
     "name": "stderr",
     "output_type": "stream",
     "text": [
      "[nltk_data] Downloading package vader_lexicon to\n",
      "[nltk_data]     /Users/PeterRepetto/nltk_data...\n",
      "[nltk_data]   Package vader_lexicon is already up-to-date!\n"
     ]
    },
    {
     "data": {
      "text/plain": [
       "True"
      ]
     },
     "execution_count": 1,
     "metadata": {},
     "output_type": "execute_result"
    }
   ],
   "source": [
    "import os\n",
    "from nltk.sentiment.vader import SentimentIntensityAnalyzer\n",
    "import nltk\n",
    "import json\n",
    "from pprint import pprint\n",
    "\n",
    "'''\n",
    "def sentimentScore(texts):\n",
    "    analyzer = SentimentIntensityAnalyzer()\n",
    "    scores = []\n",
    "    for text in texts:\n",
    "        score = SentimentIntensityAnalyzer().polarity_scores(text)[\"compound\"]\n",
    "    try: return score\n",
    "    except ZeroDivisionError: return 0\n",
    "text = \"shares jump as shipments more than double winning\"\n",
    "print(sentimentScore(text))\n",
    "'''\n",
    "\n",
    "nltk.download('vader_lexicon')"
   ]
  },
  {
   "cell_type": "code",
   "execution_count": 2,
   "metadata": {},
   "outputs": [],
   "source": [
    "#Initial Scores Set \n",
    "bullish = 0\n",
    "bearish = 0"
   ]
  },
  {
   "cell_type": "code",
   "execution_count": null,
   "metadata": {},
   "outputs": [],
   "source": [
    "#List of tickers\n",
    "tickers = ['MSFT','GOOGL']"
   ]
  },
  {
   "cell_type": "code",
   "execution_count": 3,
   "metadata": {},
   "outputs": [],
   "source": [
    "def read_tickers():\n",
    "    print(\"Reading tickers from \\\"tickers.txt\\\":\")\n",
    "    f = open(\"tickers.txt\", 'r')\n",
    "    names = []\n",
    "    # read tickers from tickers.txt\n",
    "    for line in f:\n",
    "        line = line.strip('\\n')\n",
    "        line = line.upper()\n",
    "        line = line.strip('\\t')\n",
    "        names.append(line)\n",
    "    print(names)\n",
    "    return names"
   ]
  },
  {
   "cell_type": "code",
   "execution_count": 4,
   "metadata": {},
   "outputs": [],
   "source": [
    "def sentimentScore(sentences):\n",
    "    analyzer = SentimentIntensityAnalyzer()\n",
    "    results = []\n",
    "    for sentence in sentences:\n",
    "        vs = analyzer.polarity_scores(sentence)\n",
    "        print(\"vs: \" + str(vs))\n",
    "        results.append(vs)\n",
    "    return results"
   ]
  },
  {
   "cell_type": "code",
   "execution_count": 9,
   "metadata": {},
   "outputs": [
    {
     "name": "stdout",
     "output_type": "stream",
     "text": [
      "vs: {'neg': 0.0, 'neu': 1.0, 'pos': 0.0, 'compound': 0.0}\n",
      "vs: {'neg': 0.111, 'neu': 0.889, 'pos': 0.0, 'compound': -0.3612}\n",
      "vs: {'neg': 0.283, 'neu': 0.717, 'pos': 0.0, 'compound': -0.729}\n",
      "vs: {'neg': 0.02, 'neu': 0.919, 'pos': 0.061, 'compound': 0.5818}\n",
      "vs: {'neg': 0.0, 'neu': 1.0, 'pos': 0.0, 'compound': 0.0}\n",
      "vs: {'neg': 0.0, 'neu': 0.64, 'pos': 0.36, 'compound': 0.9154}\n",
      "vs: {'neg': 0.02, 'neu': 0.904, 'pos': 0.076, 'compound': 0.5859}\n",
      "vs: {'neg': 0.0, 'neu': 0.596, 'pos': 0.404, 'compound': 0.9217}\n",
      "vs: {'neg': 0.168, 'neu': 0.534, 'pos': 0.298, 'compound': 0.4019}\n",
      "vs: {'neg': 0.0, 'neu': 1.0, 'pos': 0.0, 'compound': 0.0}\n",
      "vs: {'neg': 0.0, 'neu': 0.854, 'pos': 0.146, 'compound': 0.2225}\n",
      "vs: {'neg': 0.0, 'neu': 1.0, 'pos': 0.0, 'compound': 0.0}\n",
      "vs: {'neg': 0.0, 'neu': 1.0, 'pos': 0.0, 'compound': 0.0}\n",
      "vs: {'neg': 0.0, 'neu': 0.745, 'pos': 0.255, 'compound': 0.34}\n",
      "vs: {'neg': 0.0, 'neu': 1.0, 'pos': 0.0, 'compound': 0.0}\n",
      "vs: {'neg': 0.0, 'neu': 1.0, 'pos': 0.0, 'compound': 0.0}\n",
      "vs: {'neg': 0.0, 'neu': 1.0, 'pos': 0.0, 'compound': 0.0}\n",
      "vs: {'neg': 0.0, 'neu': 1.0, 'pos': 0.0, 'compound': 0.0}\n",
      "vs: {'neg': 0.0, 'neu': 0.818, 'pos': 0.182, 'compound': 0.481}\n",
      "vs: {'neg': 0.0, 'neu': 1.0, 'pos': 0.0, 'compound': 0.0}\n",
      "vs: {'neg': 0.11, 'neu': 0.832, 'pos': 0.058, 'compound': -0.5053}\n",
      "vs: {'neg': 0.0, 'neu': 0.663, 'pos': 0.337, 'compound': 0.6808}\n",
      "vs: {'neg': 0.0, 'neu': 1.0, 'pos': 0.0, 'compound': 0.0}\n",
      "vs: {'neg': 0.185, 'neu': 0.815, 'pos': 0.0, 'compound': -0.3612}\n",
      "vs: {'neg': 0.0, 'neu': 0.682, 'pos': 0.318, 'compound': 0.6808}\n",
      "vs: {'neg': 0.0, 'neu': 1.0, 'pos': 0.0, 'compound': 0.0}\n",
      "vs: {'neg': 0.0, 'neu': 0.615, 'pos': 0.385, 'compound': 0.3612}\n",
      "vs: {'neg': 0.0, 'neu': 0.922, 'pos': 0.078, 'compound': 0.4199}\n",
      "vs: {'neg': 0.126, 'neu': 0.874, 'pos': 0.0, 'compound': -0.3182}\n",
      "vs: {'neg': 0.0, 'neu': 0.781, 'pos': 0.219, 'compound': 0.4753}\n",
      "-0.3612\n",
      "-0.729\n",
      "0.5818\n",
      "0.9154\n",
      "0.5859\n",
      "0.9217\n",
      "0.4019\n",
      "0.2225\n",
      "0.34\n",
      "0.481\n",
      "-0.5053\n",
      "0.6808\n",
      "-0.3612\n",
      "0.6808\n",
      "0.3612\n",
      "0.4199\n",
      "-0.3182\n",
      "0.4753\n",
      "avg: 0.2662944444444444\n",
      "44\n",
      "11\n"
     ]
    }
   ],
   "source": [
    "# sentimentScore(examples)\n",
    "\n",
    "with open('top_stocks.json') as data_file:\n",
    "    data = json.load(data_file)\n",
    "\n",
    "list = []\n",
    "\n",
    "for i in data['V']:\n",
    "    list.append(i['body'])\n",
    "    # print(type(i['entities']['sentiment']))\n",
    "    if not(i['entities']['sentiment'] is None):\n",
    "        sentiment = i['entities']['sentiment']['basic']\n",
    "        if (sentiment == \"bullish\" or sentiment == \"Bullish\"):\n",
    "            bullish += 1\n",
    "        else:\n",
    "            bearish += 1\n",
    "\n",
    "score = sentimentScore(list)\n",
    "sum = 0.0\n",
    "count = 0.0\n",
    "for i in score:\n",
    "    if i['compound'] != 0:\n",
    "        pprint(i['compound'])\n",
    "        sum += i['compound']\n",
    "        count += 1.0\n",
    "\n",
    "print(\"avg: \" + str(sum/count))\n",
    "print(bullish)\n",
    "print(bearish)"
   ]
  },
  {
   "cell_type": "code",
   "execution_count": null,
   "metadata": {},
   "outputs": [],
   "source": []
  }
 ],
 "metadata": {
  "kernelspec": {
   "display_name": "Python 3",
   "language": "python",
   "name": "python3"
  },
  "language_info": {
   "codemirror_mode": {
    "name": "ipython",
    "version": 3
   },
   "file_extension": ".py",
   "mimetype": "text/x-python",
   "name": "python",
   "nbconvert_exporter": "python",
   "pygments_lexer": "ipython3",
   "version": "3.7.4"
  }
 },
 "nbformat": 4,
 "nbformat_minor": 4
}
