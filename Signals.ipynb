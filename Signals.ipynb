{
 "cells": [
  {
   "cell_type": "code",
   "execution_count": null,
   "metadata": {},
   "outputs": [],
   "source": [
    "# have the index be the date and the other column the daily number (close, volume, sentiment score, etc)\n",
    "# title each column with the abbreviated title of the DF in front of the column title (ex: 'sp_daily' for share_price.csv)"
   ]
  },
  {
   "cell_type": "code",
   "execution_count": 1,
   "metadata": {},
   "outputs": [],
   "source": [
    "import pandas as pd\n",
    "import numpy as np\n",
    "from pathlib import Path\n",
    "%matplotlib inline\n",
    "\n",
    "import warnings\n",
    "warnings.filterwarnings('ignore')"
   ]
  },
  {
   "cell_type": "code",
   "execution_count": null,
   "metadata": {},
   "outputs": [],
   "source": [
    "#Read Share Prices ('sp_close')\n",
    "share_price_path = Path('../Resources/share_prices.csv')\n",
    "share_price_df=pd.read_csv(share_price_path)\n",
    "\n",
    "#Read Volumes ('v_volume')\n",
    "volumes_path = Path('../Resources/volumes.csv')\n",
    "volumes_df=pd.read_csv(volumes_path)\n",
    "\n",
    "#Read Options ('o_close')\n",
    "options_path = Path('../Resources/share_prices.csv')\n",
    "options_df=pd.read_csv(options_path)\n",
    "\n",
    "#Read APII ('a_score')\n",
    "apii_path = Path('../Resources/apii.csv')\n",
    "apii_df=pd.read_csv(apii_path)\n",
    "\n",
    "#Read News ('n_score')\n",
    "news_path = Path('../Resources/news.csv')\n",
    "news_df=pd.read_csv(news_path)\n",
    "\n",
    "#Read Technical ('t_')\n",
    "technical_path = Path('../Resources/technical.csv')\n",
    "technical_price_df=pd.read_csv(technical_path)"
   ]
  },
  {
   "cell_type": "code",
   "execution_count": null,
   "metadata": {},
   "outputs": [],
   "source": [
    "#Concat DataFrame\n",
    "signals_df = pd.concat([share_price_df, volumes_df, options_df, apii_df, news_df, technical_price_df], axis = 'columns', join = 'inner')\n",
    "signals_df.head()"
   ]
  },
  {
   "cell_type": "code",
   "execution_count": null,
   "metadata": {},
   "outputs": [],
   "source": [
    "# (SUBJECT TO CHANGE)\n",
    "\n",
    "# Set bollinger band window\n",
    "bollinger_window = 20"
   ]
  },
  {
   "cell_type": "code",
   "execution_count": null,
   "metadata": {},
   "outputs": [],
   "source": [
    "# ( IF CHANGE WINDOW NEED TO CHANGE VALUES BELOW)\n",
    "\n",
    "# Calculate Share Price rolling mean and standard deviation\n",
    "signals_df['sp_bollinger_mid_band'] = signals_df['sp_close'].rolling(window=bollinger_window).mean()\n",
    "signals_df['sp_bollinger_std'] = signals_df['sp_close'].rolling(window=20).std()\n",
    "\n",
    "# Calculate Volume rolling mean and standard deviation\n",
    "signals_df['v_bollinger_mid_band'] = signals_df['v_volume'].rolling(window=bollinger_window).mean()\n",
    "signals_df['v_bollinger_std'] = signals_df['v_volume'].rolling(window=20).std()\n",
    "\n",
    "# Calculate Options rolling mean and standard deviation\n",
    "signals_df['o_bollinger_mid_band'] = signals_df['o_close'].rolling(window=bollinger_window).mean()\n",
    "signals_df['o_bollinger_std'] = signals_df['o_close'].rolling(window=20).std()\n",
    "\n",
    "# Calculate APII rolling mean and standard deviation\n",
    "signals_df['a_bollinger_mid_band'] = signals_df['a_score'].rolling(window=bollinger_window).mean()\n",
    "signals_df['a_bollinger_std'] = signals_df['a_score'].rolling(window=20).std()\n",
    "\n",
    "# Calculate News rolling mean and standard deviation\n",
    "signals_df['n_bollinger_mid_band'] = signals_df['n_score'].rolling(window=bollinger_window).mean()\n",
    "signals_df['n_bollinger_std'] = signals_df['n_score'].rolling(window=20).std()\n",
    "\n",
    "# Calculate Technical rolling mean and standard deviation\n",
    "signals_df['t_bollinger_mid_band'] = signals_df['t_'].rolling(window=bollinger_window).mean()\n",
    "signals_df['t_bollinger_std'] = signals_df['t_'].rolling(window=20).std()"
   ]
  },
  {
   "cell_type": "code",
   "execution_count": null,
   "metadata": {},
   "outputs": [],
   "source": [
    "# Calculate Share Price upper and lowers bands of bollinger band\n",
    "signals_df['sp_bollinger_upper_band']  = signals_df['sp_bollinger_mid_band'] + (signals_df['sp_bollinger_std'] * 1)\n",
    "signals_df['sp_bollinger_lower_band']  = signals_df['sp_bollinger_mid_band'] - (signals_df['sp_bollinger_std'] * 1)\n",
    "\n",
    "# Calculate Volume upper and lowers bands of bollinger band\n",
    "signals_df['v_bollinger_upper_band']  = signals_df['v_bollinger_mid_band'] + (signals_df['v_bollinger_std'] * 1)\n",
    "signals_df['v_bollinger_lower_band']  = signals_df['v_bollinger_mid_band'] - (signals_df['v_bollinger_std'] * 1)\n",
    "\n",
    "# Calculate Options upper and lowers bands of bollinger band\n",
    "signals_df['o_bollinger_upper_band']  = signals_df['o_bollinger_mid_band'] + (signals_df['o_bollinger_std'] * 1)\n",
    "signals_df['o_bollinger_lower_band']  = signals_df['o_bollinger_mid_band'] - (signals_df['o_bollinger_std'] * 1)\n",
    "\n",
    "# Calculate APII upper and lowers bands of bollinger band\n",
    "signals_df['a_bollinger_upper_band']  = signals_df['a_bollinger_mid_band'] + (signals_df['a_bollinger_std'] * 1)\n",
    "signals_df['a_bollinger_lower_band']  = signals_df['a_bollinger_mid_band'] - (signals_df['a_bollinger_std'] * 1)\n",
    "\n",
    "# Calculate News upper and lowers bands of bollinger band\n",
    "signals_df['n_bollinger_upper_band']  = signals_df['n_bollinger_mid_band'] + (signals_df['n_bollinger_std'] * 1)\n",
    "signals_df['n_bollinger_lower_band']  = signals_df['n_bollinger_mid_band'] - (signals_df['n_bollinger_std'] * 1)\n",
    "\n",
    "# Calculate Technical upper and lowers bands of bollinger band\n",
    "signals_df['t_bollinger_upper_band']  = signals_df['t_bollinger_mid_band'] + (signals_df['t_bollinger_std'] * 1)\n",
    "signals_df['t_bollinger_lower_band']  = signals_df['t_bollinger_mid_band'] - (signals_df['t_bollinger_std'] * 1)"
   ]
  },
  {
   "cell_type": "code",
   "execution_count": null,
   "metadata": {},
   "outputs": [],
   "source": [
    "# Calculate Share Price bollinger band trading signal \n",
    "signals_df['sp_bollinger_long'] = np.where(signals_df['sp_close'] < signals_df['sp_bollinger_lower_band'], 1.0, 0.0)\n",
    "signals_df['sp_bollinger_short'] = np.where(signals_df['sp_lose'] > signals_df['sp_bollinger_upper_band'], -1.0, 0.0)\n",
    "signals_df['sp_bollinger_signal'] = signals_df['sp_bollinger_long'] + signals_df['sp_bollinger_short']\n",
    "\n",
    "# Calculate Volume bollinger band trading signal \n",
    "signals_df['v_bollinger_long'] = np.where(signals_df['v_volume'] < signals_df['v_bollinger_lower_band'], 1.0, 0.0)\n",
    "signals_df['v_bollinger_short'] = np.where(signals_df['v_volume'] > signals_df['v_bollinger_upper_band'], -1.0, 0.0)\n",
    "signals_df['v_bollinger_signal'] = signals_df['v_bollinger_long'] + signals_df['v_bollinger_short']\n",
    "\n",
    "# Calculate Options bollinger band trading signal \n",
    "signals_df['o_bollinger_long'] = np.where(signals_df['o_close'] < signals_df['o_bollinger_lower_band'], 1.0, 0.0)\n",
    "signals_df['o_bollinger_short'] = np.where(signals_df['o_close'] > signals_df['o_bollinger_upper_band'], -1.0, 0.0)\n",
    "signals_df['o_bollinger_signal'] = signals_df['o_bollinger_long'] + signals_df['o_bollinger_short']\n",
    "\n",
    "# Calculate APII bollinger band trading signal\n",
    "signals_df['a_bollinger_long'] = np.where(signals_df['a_score'] < signals_df['a_bollinger_lower_band'], 1.0, 0.0)\n",
    "signals_df['a_bollinger_short'] = np.where(signals_df['a_score'] > signals_df['a_bollinger_upper_band'], -1.0, 0.0)\n",
    "signals_df['a_bollinger_signal'] = signals_df['a_bollinger_long'] + signals_df['a_bollinger_short']\n",
    "\n",
    "# Calculate News bollinger band trading signal \n",
    "signals_df['n_bollinger_long'] = np.where(signals_df['n_score'] < signals_df['n_bollinger_lower_band'], 1.0, 0.0)\n",
    "signals_df['n_bollinger_short'] = np.where(signals_df['n_score'] > signals_df['n_bollinger_upper_band'], -1.0, 0.0)\n",
    "signals_df['n_bollinger_signal'] = signals_df['n_bollinger_long'] + signals_df['n_bollinger_short']\n",
    "\n",
    "# Calculate Technical bollinger band trading signal \n",
    "signals_df['t_bollinger_long'] = np.where(signals_df['t_'] < signals_df['t_bollinger_lower_band'], 1.0, 0.0)\n",
    "signals_df['t_bollinger_short'] = np.where(signals_df['t_'] > signals_df['t_bollinger_upper_band'], -1.0, 0.0)\n",
    "signals_df['t_bollinger_signal'] = signals_df['t_bollinger_long'] + signals_df['t_bollinger_short']"
   ]
  },
  {
   "cell_type": "code",
   "execution_count": null,
   "metadata": {},
   "outputs": [],
   "source": [
    "# Consolidate trading signals into DataFrame\n",
    "trading_signals_df = signals_df['sp_bollinger_signal', 'v_bollinger_signal', 'o_bollinger_signal', 'a_bollinger_signal', 'n_bollinger_signal' , 't_bollinger_signal']\n",
    "trading_signals_df"
   ]
  },
  {
   "cell_type": "code",
   "execution_count": null,
   "metadata": {},
   "outputs": [],
   "source": [
    "# INSERT WEIGHTED SECTION HERE?????"
   ]
  },
  {
   "cell_type": "code",
   "execution_count": null,
   "metadata": {},
   "outputs": [],
   "source": [
    "# def execute_trade_strategy(signals, account):\n",
    "#    \"\"\"Makes a buy/sell/hold decision.\"\"\"\n",
    "#    if signals[\"entry/exit\"][-1] == 1.0:\n",
    "#        print(\"buy\")\n",
    "#        number_to_buy = round(account[\"balance\"] / signals[\"close\"][-1], 0) * 0.001\n",
    "#        account[\"balance\"] -= number_to_buy * signals[\"close\"][-1]\n",
    "#        account[\"shares\"] += number_to_buy\n",
    "#    elif signals[\"entry/exit\"][-1] == -1.0:\n",
    "#        print(\"sell\")\n",
    "#        account[\"balance\"] += signals[\"close\"][-1] * account[\"shares\"]\n",
    "#        account[\"shares\"] = 0\n",
    "#    else:\n",
    "#        print(\"hold\")\n",
    "#    return account"
   ]
  }
 ],
 "metadata": {
  "kernelspec": {
   "display_name": "Python 3",
   "language": "python",
   "name": "python3"
  },
  "language_info": {
   "codemirror_mode": {
    "name": "ipython",
    "version": 3
   },
   "file_extension": ".py",
   "mimetype": "text/x-python",
   "name": "python",
   "nbconvert_exporter": "python",
   "pygments_lexer": "ipython3",
   "version": "3.7.4"
  }
 },
 "nbformat": 4,
 "nbformat_minor": 4
}
